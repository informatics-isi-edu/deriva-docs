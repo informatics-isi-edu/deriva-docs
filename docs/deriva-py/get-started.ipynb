{
 "cells": [
  {
   "cell_type": "markdown",
   "metadata": {},
   "source": [
    "# Get started\n",
    "Fill in your host name and get started exploring your catalog with the `datapath` API."
   ]
  },
  {
   "cell_type": "code",
   "execution_count": 1,
   "metadata": {
    "collapsed": true,
    "execution": {
     "iopub.execute_input": "2025-10-02T14:55:48.369011Z",
     "iopub.status.busy": "2025-10-02T14:55:48.368821Z",
     "iopub.status.idle": "2025-10-02T14:55:48.606827Z",
     "shell.execute_reply": "2025-10-02T14:55:48.606299Z"
    }
   },
   "outputs": [],
   "source": [
    "from deriva.core import ErmrestCatalog, get_credential"
   ]
  },
  {
   "cell_type": "markdown",
   "metadata": {},
   "source": [
    "Fill in your desired scheme, hostname and catalog number."
   ]
  },
  {
   "cell_type": "code",
   "execution_count": 2,
   "metadata": {
    "execution": {
     "iopub.execute_input": "2025-10-02T14:55:48.608932Z",
     "iopub.status.busy": "2025-10-02T14:55:48.608692Z",
     "iopub.status.idle": "2025-10-02T14:55:48.611554Z",
     "shell.execute_reply": "2025-10-02T14:55:48.611122Z"
    }
   },
   "outputs": [],
   "source": [
    "scheme = 'https'\n",
    "hostname = None\n",
    "catalog_number = 1"
   ]
  },
  {
   "cell_type": "markdown",
   "metadata": {},
   "source": [
    "Use DERIVA-Auth to get a `credential` or use `None` if your catalog allows anonymous access."
   ]
  },
  {
   "cell_type": "code",
   "execution_count": 3,
   "metadata": {
    "collapsed": true,
    "execution": {
     "iopub.execute_input": "2025-10-02T14:55:48.613321Z",
     "iopub.status.busy": "2025-10-02T14:55:48.612996Z",
     "iopub.status.idle": "2025-10-02T14:55:48.615313Z",
     "shell.execute_reply": "2025-10-02T14:55:48.614896Z"
    }
   },
   "outputs": [],
   "source": [
    "credential = None\n",
    "#credential = get_credential(hostname)"
   ]
  },
  {
   "cell_type": "markdown",
   "metadata": {},
   "source": [
    "Now, connect to your catalog and the `pathbuilder` interface for the catalog."
   ]
  },
  {
   "cell_type": "code",
   "execution_count": 4,
   "metadata": {
    "execution": {
     "iopub.execute_input": "2025-10-02T14:55:48.616754Z",
     "iopub.status.busy": "2025-10-02T14:55:48.616609Z",
     "iopub.status.idle": "2025-10-02T14:55:48.781295Z",
     "shell.execute_reply": "2025-10-02T14:55:48.780778Z"
    }
   },
   "outputs": [
    {
     "ename": "AssertionError",
     "evalue": "Hostname not set.",
     "output_type": "error",
     "traceback": [
      "\u001b[31m---------------------------------------------------------------------------\u001b[39m",
      "\u001b[31mAssertionError\u001b[39m                            Traceback (most recent call last)",
      "\u001b[36mCell\u001b[39m\u001b[36m \u001b[39m\u001b[32mIn[4]\u001b[39m\u001b[32m, line 2\u001b[39m\n\u001b[32m      1\u001b[39m \u001b[38;5;28;01massert\u001b[39;00m scheme == \u001b[33m'\u001b[39m\u001b[33mhttp\u001b[39m\u001b[33m'\u001b[39m \u001b[38;5;129;01mor\u001b[39;00m scheme == \u001b[33m'\u001b[39m\u001b[33mhttps\u001b[39m\u001b[33m'\u001b[39m, \u001b[33m\"\u001b[39m\u001b[33mInvalid http scheme used.\u001b[39m\u001b[33m\"\u001b[39m\n\u001b[32m----> \u001b[39m\u001b[32m2\u001b[39m \u001b[38;5;28;01massert\u001b[39;00m \u001b[38;5;28misinstance\u001b[39m(hostname, \u001b[38;5;28mstr\u001b[39m), \u001b[33m\"\u001b[39m\u001b[33mHostname not set.\u001b[39m\u001b[33m\"\u001b[39m\n\u001b[32m      3\u001b[39m \u001b[38;5;28;01massert\u001b[39;00m \u001b[38;5;28misinstance\u001b[39m(catalog_number, \u001b[38;5;28mint\u001b[39m), \u001b[33m\"\u001b[39m\u001b[33mInvalid catalog number\u001b[39m\u001b[33m\"\u001b[39m\n\u001b[32m      4\u001b[39m catalog = ErmrestCatalog(scheme, hostname, catalog_number, credential)\n",
      "\u001b[31mAssertionError\u001b[39m: Hostname not set."
     ]
    }
   ],
   "source": [
    "assert scheme == 'http' or scheme == 'https', \"Invalid http scheme used.\"\n",
    "assert isinstance(hostname, str), \"Hostname not set.\"\n",
    "assert isinstance(catalog_number, int), \"Invalid catalog number\"\n",
    "catalog = ErmrestCatalog(scheme, hostname, catalog_number, credential)\n",
    "pb = catalog.getPathBuilder()"
   ]
  },
  {
   "cell_type": "markdown",
   "metadata": {},
   "source": [
    "Start using the pathbuilder, like this to get a list of your catalog's schema names."
   ]
  },
  {
   "cell_type": "code",
   "execution_count": 5,
   "metadata": {
    "execution": {
     "iopub.execute_input": "2025-10-02T14:55:48.810473Z",
     "iopub.status.busy": "2025-10-02T14:55:48.810313Z",
     "iopub.status.idle": "2025-10-02T14:55:48.827581Z",
     "shell.execute_reply": "2025-10-02T14:55:48.827138Z"
    }
   },
   "outputs": [
    {
     "ename": "NameError",
     "evalue": "name 'pb' is not defined",
     "output_type": "error",
     "traceback": [
      "\u001b[31m---------------------------------------------------------------------------\u001b[39m",
      "\u001b[31mNameError\u001b[39m                                 Traceback (most recent call last)",
      "\u001b[36mCell\u001b[39m\u001b[36m \u001b[39m\u001b[32mIn[5]\u001b[39m\u001b[32m, line 1\u001b[39m\n\u001b[32m----> \u001b[39m\u001b[32m1\u001b[39m \u001b[38;5;28mlist\u001b[39m(\u001b[43mpb\u001b[49m.schemas)\n",
      "\u001b[31mNameError\u001b[39m: name 'pb' is not defined"
     ]
    }
   ],
   "source": [
    "list(pb.schemas)"
   ]
  }
 ],
 "metadata": {
  "kernelspec": {
   "display_name": "Python 3",
   "language": "python",
   "name": "python3"
  },
  "language_info": {
   "codemirror_mode": {
    "name": "ipython",
    "version": 3
   },
   "file_extension": ".py",
   "mimetype": "text/x-python",
   "name": "python",
   "nbconvert_exporter": "python",
   "pygments_lexer": "ipython3",
   "version": "3.11.13"
  }
 },
 "nbformat": 4,
 "nbformat_minor": 2
}
