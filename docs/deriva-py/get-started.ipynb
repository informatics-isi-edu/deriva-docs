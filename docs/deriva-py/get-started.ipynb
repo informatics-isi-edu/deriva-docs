{
 "cells": [
  {
   "cell_type": "markdown",
   "metadata": {},
   "source": [
    "# Get started\n",
    "Fill in your host name and get started exploring your catalog with the `datapath` API."
   ]
  },
  {
   "cell_type": "code",
   "execution_count": 1,
   "metadata": {
    "collapsed": true,
    "execution": {
     "iopub.execute_input": "2023-03-02T01:48:15.997867Z",
     "iopub.status.busy": "2023-03-02T01:48:15.995294Z",
     "iopub.status.idle": "2023-03-02T01:48:16.351111Z",
     "shell.execute_reply": "2023-03-02T01:48:16.351847Z"
    }
   },
   "outputs": [
    {
     "name": "stderr",
     "output_type": "stream",
     "text": [
      "/root/.local/lib/python3.6/site-packages/jwt/utils.py:7: CryptographyDeprecationWarning: Python 3.6 is no longer supported by the Python core team. Therefore, support for it is deprecated in cryptography. The next release of cryptography (40.0) will be the last to support Python 3.6.\n",
      "  from cryptography.hazmat.primitives.asymmetric.ec import EllipticCurve\n"
     ]
    }
   ],
   "source": [
    "from deriva.core import ErmrestCatalog, get_credential"
   ]
  },
  {
   "cell_type": "markdown",
   "metadata": {},
   "source": [
    "Fill in your desired scheme, hostname and catalog number."
   ]
  },
  {
   "cell_type": "code",
   "execution_count": 2,
   "metadata": {
    "execution": {
     "iopub.execute_input": "2023-03-02T01:48:16.356058Z",
     "iopub.status.busy": "2023-03-02T01:48:16.355292Z",
     "iopub.status.idle": "2023-03-02T01:48:16.359166Z",
     "shell.execute_reply": "2023-03-02T01:48:16.359813Z"
    }
   },
   "outputs": [],
   "source": [
    "scheme = 'https'\n",
    "hostname = None\n",
    "catalog_number = 1"
   ]
  },
  {
   "cell_type": "markdown",
   "metadata": {},
   "source": [
    "Use DERIVA-Auth to get a `credential` or use `None` if your catalog allows anonymous access."
   ]
  },
  {
   "cell_type": "code",
   "execution_count": 3,
   "metadata": {
    "collapsed": true,
    "execution": {
     "iopub.execute_input": "2023-03-02T01:48:16.364529Z",
     "iopub.status.busy": "2023-03-02T01:48:16.363772Z",
     "iopub.status.idle": "2023-03-02T01:48:16.367168Z",
     "shell.execute_reply": "2023-03-02T01:48:16.366528Z"
    }
   },
   "outputs": [],
   "source": [
    "credential = None\n",
    "#credential = get_credential(hostname)"
   ]
  },
  {
   "cell_type": "markdown",
   "metadata": {},
   "source": [
    "Now, connect to your catalog and the `pathbuilder` interface for the catalog."
   ]
  },
  {
   "cell_type": "code",
   "execution_count": 4,
   "metadata": {
    "execution": {
     "iopub.execute_input": "2023-03-02T01:48:16.376256Z",
     "iopub.status.busy": "2023-03-02T01:48:16.375415Z",
     "iopub.status.idle": "2023-03-02T01:48:16.466017Z",
     "shell.execute_reply": "2023-03-02T01:48:16.466803Z"
    }
   },
   "outputs": [
    {
     "ename": "AssertionError",
     "evalue": "Hostname not set.",
     "output_type": "error",
     "traceback": [
      "\u001b[0;31m---------------------------------------------------------------------------\u001b[0m",
      "\u001b[0;31mAssertionError\u001b[0m                            Traceback (most recent call last)",
      "\u001b[0;32m<ipython-input-1-35969d799e0b>\u001b[0m in \u001b[0;36m<module>\u001b[0;34m\u001b[0m\n\u001b[1;32m      1\u001b[0m \u001b[0;32massert\u001b[0m \u001b[0mscheme\u001b[0m \u001b[0;34m==\u001b[0m \u001b[0;34m'http'\u001b[0m \u001b[0;32mor\u001b[0m \u001b[0mscheme\u001b[0m \u001b[0;34m==\u001b[0m \u001b[0;34m'https'\u001b[0m\u001b[0;34m,\u001b[0m \u001b[0;34m\"Invalid http scheme used.\"\u001b[0m\u001b[0;34m\u001b[0m\u001b[0;34m\u001b[0m\u001b[0m\n\u001b[0;32m----> 2\u001b[0;31m \u001b[0;32massert\u001b[0m \u001b[0misinstance\u001b[0m\u001b[0;34m(\u001b[0m\u001b[0mhostname\u001b[0m\u001b[0;34m,\u001b[0m \u001b[0mstr\u001b[0m\u001b[0;34m)\u001b[0m\u001b[0;34m,\u001b[0m \u001b[0;34m\"Hostname not set.\"\u001b[0m\u001b[0;34m\u001b[0m\u001b[0;34m\u001b[0m\u001b[0m\n\u001b[0m\u001b[1;32m      3\u001b[0m \u001b[0;32massert\u001b[0m \u001b[0misinstance\u001b[0m\u001b[0;34m(\u001b[0m\u001b[0mcatalog_number\u001b[0m\u001b[0;34m,\u001b[0m \u001b[0mint\u001b[0m\u001b[0;34m)\u001b[0m\u001b[0;34m,\u001b[0m \u001b[0;34m\"Invalid catalog number\"\u001b[0m\u001b[0;34m\u001b[0m\u001b[0;34m\u001b[0m\u001b[0m\n\u001b[1;32m      4\u001b[0m \u001b[0mcatalog\u001b[0m \u001b[0;34m=\u001b[0m \u001b[0mErmrestCatalog\u001b[0m\u001b[0;34m(\u001b[0m\u001b[0mscheme\u001b[0m\u001b[0;34m,\u001b[0m \u001b[0mhostname\u001b[0m\u001b[0;34m,\u001b[0m \u001b[0mcatalog_number\u001b[0m\u001b[0;34m,\u001b[0m \u001b[0mcredential\u001b[0m\u001b[0;34m)\u001b[0m\u001b[0;34m\u001b[0m\u001b[0;34m\u001b[0m\u001b[0m\n\u001b[1;32m      5\u001b[0m \u001b[0mpb\u001b[0m \u001b[0;34m=\u001b[0m \u001b[0mcatalog\u001b[0m\u001b[0;34m.\u001b[0m\u001b[0mgetPathBuilder\u001b[0m\u001b[0;34m(\u001b[0m\u001b[0;34m)\u001b[0m\u001b[0;34m\u001b[0m\u001b[0;34m\u001b[0m\u001b[0m\n",
      "\u001b[0;31mAssertionError\u001b[0m: Hostname not set."
     ]
    }
   ],
   "source": [
    "assert scheme == 'http' or scheme == 'https', \"Invalid http scheme used.\"\n",
    "assert isinstance(hostname, str), \"Hostname not set.\"\n",
    "assert isinstance(catalog_number, int), \"Invalid catalog number\"\n",
    "catalog = ErmrestCatalog(scheme, hostname, catalog_number, credential)\n",
    "pb = catalog.getPathBuilder()"
   ]
  },
  {
   "cell_type": "markdown",
   "metadata": {},
   "source": [
    "Start using the pathbuilder, like this to get a list of your catalog's schema names."
   ]
  },
  {
   "cell_type": "code",
   "execution_count": 5,
   "metadata": {
    "execution": {
     "iopub.execute_input": "2023-03-02T01:48:16.477961Z",
     "iopub.status.busy": "2023-03-02T01:48:16.471939Z",
     "iopub.status.idle": "2023-03-02T01:48:16.480896Z",
     "shell.execute_reply": "2023-03-02T01:48:16.481527Z"
    }
   },
   "outputs": [
    {
     "ename": "NameError",
     "evalue": "name 'pb' is not defined",
     "output_type": "error",
     "traceback": [
      "\u001b[0;31m---------------------------------------------------------------------------\u001b[0m",
      "\u001b[0;31mNameError\u001b[0m                                 Traceback (most recent call last)",
      "\u001b[0;32m<ipython-input-1-cb9f4b559a4b>\u001b[0m in \u001b[0;36m<module>\u001b[0;34m\u001b[0m\n\u001b[0;32m----> 1\u001b[0;31m \u001b[0mlist\u001b[0m\u001b[0;34m(\u001b[0m\u001b[0mpb\u001b[0m\u001b[0;34m.\u001b[0m\u001b[0mschemas\u001b[0m\u001b[0;34m)\u001b[0m\u001b[0;34m\u001b[0m\u001b[0;34m\u001b[0m\u001b[0m\n\u001b[0m",
      "\u001b[0;31mNameError\u001b[0m: name 'pb' is not defined"
     ]
    }
   ],
   "source": [
    "list(pb.schemas)"
   ]
  }
 ],
 "metadata": {
  "kernelspec": {
   "display_name": "Python 3",
   "language": "python",
   "name": "python3"
  },
  "language_info": {
   "codemirror_mode": {
    "name": "ipython",
    "version": 3
   },
   "file_extension": ".py",
   "mimetype": "text/x-python",
   "name": "python",
   "nbconvert_exporter": "python",
   "pygments_lexer": "ipython3",
   "version": "3.6.8"
  }
 },
 "nbformat": 4,
 "nbformat_minor": 2
}
